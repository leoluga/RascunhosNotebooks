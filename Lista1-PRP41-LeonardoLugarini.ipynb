{
 "cells": [
  {
   "cell_type": "code",
   "execution_count": 1,
   "metadata": {},
   "outputs": [],
   "source": [
    "import numpy as np\n",
    "from IPython.display import display, Latex"
   ]
  },
  {
   "cell_type": "markdown",
   "metadata": {},
   "source": [
    "Lista 1 - PRP41\n",
    "-----------------------------------------\n",
    "\n",
    "Leonardo Antonio Lugarini\n",
    "\n",
    "-----------------------------------------"
   ]
  },
  {
   "cell_type": "markdown",
   "metadata": {},
   "source": [
    "Questao 1. Calcule o ∆v de um EPL com Mu = 200 kg, Mp = 3000 kg,\n",
    "ε = 70% e Isp = 290 s."
   ]
  },
  {
   "cell_type": "markdown",
   "metadata": {},
   "source": [
    "$$\n",
    "\\Delta v = c ln(\\Lambda) = I_{sp} g_0 ln (\\frac{M_u + M_e + M_p}{M_u + M_e}) \\\\\n",
    "$$\n",
    "$$\n",
    "\\epsilon = M_p/(M_p + M_e)\n",
    "$$"
   ]
  },
  {
   "cell_type": "code",
   "execution_count": 2,
   "metadata": {},
   "outputs": [
    {
     "data": {
      "text/latex": [
       "$O \\ valor \\ de \\ \\Delta v \\ é \\ igual \\ a \\ 3143.62 \\  m/s$"
      ],
      "text/plain": [
       "<IPython.core.display.Latex object>"
      ]
     },
     "metadata": {},
     "output_type": "display_data"
    }
   ],
   "source": [
    "def delta_v_from_Mu_Mp_eps_Isp(Mu, Mp, eps, Isp, g0):\n",
    "    Me = (Mp/eps) - Mp\n",
    "    Lambda = (Mu + Me + Mp)/(Mu + Me) \n",
    "    c = Isp*g0\n",
    "    delta_v = c*np.log(Lambda)\n",
    "    display(Latex(f\"$O \\ valor \\ de \\ \\Delta v \\ é \\ igual \\ a \\ {delta_v:.2f} \\  m/s$\"))\n",
    "    return delta_v\n",
    "\n",
    "Mu, Mp, eps, Isp, g0 = 200, 3000, 0.7, 290, 9.81\n",
    "\n",
    "delta_v_Q1  = delta_v_from_Mu_Mp_eps_Isp(Mu, Mp, eps, Isp, g0)"
   ]
  },
  {
   "cell_type": "markdown",
   "metadata": {},
   "source": [
    "Questão 2. Considere um EPL de Mu = 200 kg , ε = 70% e Isp = 290 s,\n",
    "calcule a massa de propelente necessária para atingir:\n",
    "\n",
    "(a) ∆v = 1000 m/s;  (b) ∆v = 3400 m/s; (c) ∆v = 5000 m/s;"
   ]
  },
  {
   "cell_type": "code",
   "execution_count": 3,
   "metadata": {},
   "outputs": [
    {
     "data": {
      "text/latex": [
       "$O \\ valor \\ de \\ M_p \\ é \\ igual \\ a \\ 102.80 \\  kg$"
      ],
      "text/plain": [
       "<IPython.core.display.Latex object>"
      ]
     },
     "metadata": {},
     "output_type": "display_data"
    }
   ],
   "source": [
    "def Mp_from_Mu_eps_Isp_deltaV(Mu, eps, Isp, delta_v,g0):\n",
    "    c = Isp*g0\n",
    "    Lambda = np.exp(delta_v/c)\n",
    "    factor1 = Lambda- 1\n",
    "    factor2 = (1-eps)/eps\n",
    "    Mp = (factor1*Mu)/(1 - factor1*factor2)\n",
    "    if Mp > 0:\n",
    "        display(Latex(f\"$O \\ valor \\ de \\ M_p \\ é \\ igual \\ a \\ {Mp:.2f} \\  kg$\"))\n",
    "    else:\n",
    "       print('Não é possível atingir a velocidade necessária.')\n",
    "     \n",
    "    return Mp\n",
    "\n",
    "Mu, eps, Isp, g0 = 200, 0.7, 290, 9.81\n",
    "\n",
    "#(a)\n",
    "delta_v_a = 1000\n",
    "Mp_a = Mp_from_Mu_eps_Isp_deltaV(Mu, eps, Isp, delta_v_a, g0)"
   ]
  },
  {
   "cell_type": "code",
   "execution_count": 4,
   "metadata": {},
   "outputs": [
    {
     "data": {
      "text/latex": [
       "$O \\ valor \\ de \\ M_p \\ é \\ igual \\ a \\ 36601.26 \\  kg$"
      ],
      "text/plain": [
       "<IPython.core.display.Latex object>"
      ]
     },
     "metadata": {},
     "output_type": "display_data"
    }
   ],
   "source": [
    "#(b)\n",
    "delta_v_b = 3400\n",
    "Mp_b = Mp_from_Mu_eps_Isp_deltaV(Mu, eps, Isp, delta_v_b, g0)"
   ]
  },
  {
   "cell_type": "code",
   "execution_count": 5,
   "metadata": {},
   "outputs": [
    {
     "name": "stdout",
     "output_type": "stream",
     "text": [
      "Não é possível atingir a velocidade necessária.\n"
     ]
    }
   ],
   "source": [
    "#(c)\n",
    "delta_v_c = 5000\n",
    "Mp_c = Mp_from_Mu_eps_Isp_deltaV(Mu, eps, Isp, delta_v_c, g0)"
   ]
  },
  {
   "cell_type": "markdown",
   "metadata": {},
   "source": [
    "Questao 3. Calcule a maxima carga util com a qual um EPL de ε = 70%,\n",
    "Isp = 290 s e Mp = 10000 kg ainda consegue cumprir a missao de ∆v = 3\n",
    "km/s."
   ]
  },
  {
   "cell_type": "code",
   "execution_count": 6,
   "metadata": {},
   "outputs": [
    {
     "data": {
      "text/latex": [
       "$O \\ valor \\ de \\ M_u \\ é \\ igual \\ a \\ 1060.18 \\  kg$"
      ],
      "text/plain": [
       "<IPython.core.display.Latex object>"
      ]
     },
     "metadata": {},
     "output_type": "display_data"
    }
   ],
   "source": [
    "def Mu_from_Mp_eps_Isp_deltaV(Mp, eps, Isp, delta_v, g0):\n",
    "    c = Isp*g0\n",
    "    Lambda = np.exp(delta_v/c)\n",
    "    factor1 = Lambda-1\n",
    "    factor2 = (1-eps)/eps\n",
    "    Mu = (Mp/factor1)*(1 - factor1*factor2)\n",
    "    display(Latex(f\"$O \\ valor \\ de \\ M_u \\ é \\ igual \\ a \\ {Mu:.2f} \\  kg$\"))\n",
    "    return Mu\n",
    "\n",
    "Mp,eps, Isp, g0, delta_v = 10000, 0.7, 290, 9.81, 3000 \n",
    "\n",
    "Mu = Mu_from_Mp_eps_Isp_deltaV(Mp, eps, Isp,delta_v, g0)"
   ]
  },
  {
   "cell_type": "markdown",
   "metadata": {},
   "source": [
    "Questao 4. Considere um EPL de Mu = 200 kg, Isp = 290 s, calcule a\n",
    "eficiencia estrutural m ́ınima permissıvel para atingir a missao de ∆v = 5\n",
    "km/s."
   ]
  },
  {
   "cell_type": "code",
   "execution_count": 7,
   "metadata": {},
   "outputs": [
    {
     "data": {
      "text/latex": [
       "$O \\ valor \\ de \\ \\epsilon \\ minimo \\  é \\ igual \\ a \\ 82.75% $%$ \\ $"
      ],
      "text/plain": [
       "<IPython.core.display.Latex object>"
      ]
     },
     "metadata": {},
     "output_type": "display_data"
    }
   ],
   "source": [
    "#realizando aproximação numérica\n",
    "\n",
    "def epsMin_from_Mu_Isp_deltaV(Mu,Isp, delta_v, g0):\n",
    "    c = Isp*g0\n",
    "    Lambda = np.exp(delta_v/c)\n",
    "    factor1 = Lambda/(Lambda-1)\n",
    "    def eps(Mu, Mp):\n",
    "        return Mp/(Mp*factor1 - Mu)\n",
    "    \n",
    "    Mp_vec = np.linspace(0, 1e20, 1000)\n",
    "    eps_array = np.zeros(len(Mp_vec))\n",
    "\n",
    "    for i in range(0,len(Mp_vec)):\n",
    "        eps_array[i] = eps(Mu, Mp_vec[i])\n",
    "    \n",
    "    return eps_array[-1]\n",
    "\n",
    "\n",
    "Mu, Isp, delta_v, g0 = 200, 290, 5000 , 9.81\n",
    "\n",
    "eps_min = epsMin_from_Mu_Isp_deltaV(Mu, Isp, delta_v, g0)\n",
    "\n",
    "display(Latex(f\"$O \\ valor \\ de \\ \\epsilon \\ minimo \\  é \\ igual \\ a \\ {eps_min:.2%} $%$ \\ $\"))"
   ]
  },
  {
   "cell_type": "markdown",
   "metadata": {},
   "source": [
    "Questao 5. Considere um foguete de N estagios, com impulsos especıficos\n",
    "Isp_,_i e eficiencias estruturais ε_i, i ∈ {1, . . . , n}.\n",
    "\n",
    "(a) Demonstre que o ∆vi do i−esimo estagio e dado por\n",
    "\n",
    "∆v_i = −Isp_i g0 ln(λiεi + 1 − εi),\n",
    "\n",
    "sendo λi = Mu,i/M0,i a razao de carga paga do estagio.\n",
    "\n",
    "(b) Demonstre que a razao de carga paga total λ = Mu/M0  ́e igual ao\n",
    "produto das razoes de carga paga λi de todos os estagios.\n",
    "\n",
    "(c) Deduza as equacoes polinomiais que permitem o calculo da distribuicao otima de massa dos estagios do foguete, isto  ́e, quais sao os λi que\n",
    "maximizam o ∆v final do foguete, sujeitos a $\\Pi$i, λi = λ.\n",
    "\n",
    "(d) Obtenha explicitamente a expressao dos λi para o caso particular em\n",
    "que todos os impulsos especıficos e eficiencias estruturais sao iguais.\n",
    "Interprete o resultado obtido.\n",
    "\n",
    "----------------"
   ]
  },
  {
   "cell_type": "markdown",
   "metadata": {},
   "source": [
    "a) Definindo as equações necessárias:\n",
    "\n",
    "$$\n",
    "\\Lambda_i = \\frac{M_{u,i} + M_{p,i} + M_{e,i}}{M_{u,i} + M_{e,i}} (1); \\\\\n",
    "\n",
    "\\lambda_i = \\frac{M_{u,i}}{M_{u,i} + M_{p,i} + M_{e,i}} (2);\n",
    "\n",
    "\\epsilon_i = \\frac{M_{p,i}}{M_{p,i} + M_{e,i}} (3);\n",
    "\n",
    "$$\n",
    "\n",
    "Assim, de (1):\n",
    "\n",
    "$$\n",
    "\\frac{1}{\\Lambda_i} =  \\frac{M_{u,i} + M_{e,i}}{M_{u,i} + M_{p,i} + M_{e,i}} \\\\\n",
    "$$\n",
    "$$\n",
    "\\frac{1}{\\Lambda_i} =  \\frac{M_{u,i} + M_{e,i}}{M_{u,i} + M_{p,i} + M_{e,i}} (\\frac{ M_{p,i} + M_{e,i}}{ M_{p,i} + M_{e,i}}) \\\\\n",
    "$$\n",
    "$$\n",
    "\\frac{1}{\\Lambda_i} =  \\frac{M_{u,i}M_{p,i} + M_{e,i}M_{u,i} + M_{p,i}M_{e,i} + M_{e,i}^2}{(M_{u,i} + M_{p,i} + M_{e,i})(M_{p,i} + M_{e,i})} \\\\\n",
    "$$\n",
    "$$\n",
    "\\frac{1}{\\Lambda_i} =  \\frac{M_{u,i}M_{p,i}}{(M_{u,i} + M_{p,i} + M_{e,i})(M_{p,i} + M_{e,i})} + \\frac{M_{e,i}M_{u,i} + M_{p,i}M_{e,i} + M_{e,i}^2}{(M_{u,i} + M_{p,i} + M_{e,i})(M_{p,i} + M_{e,i})} \\\\\n",
    "$$\n",
    "$$\n",
    "\\frac{1}{\\Lambda_i} =  \\frac{M_{u,i}M_{p,i}}{(M_{u,i} + M_{p,i} + M_{e,i})(M_{p,i} + M_{e,i})} + \\frac{M_{e,i}(M_{u,i} + M_{p,i} + M_{e,i})}{(M_{u,i} + M_{p,i} + M_{e,i})(M_{p,i} + M_{e,i})} \\\\\n",
    "$$\n",
    "$$\n",
    "\\frac{1}{\\Lambda_i} =  \\frac{M_{u,i}M_{p,i}}{(M_{u,i} + M_{p,i} + M_{e,i})(M_{p,i} + M_{e,i})} + \\frac{M_{e,i}}{M_{p,i} + M_{e,i}} \\\\\n",
    "$$\n",
    "\n",
    "De (2) e (3):\n",
    "\n",
    "$$\n",
    "\\frac{1}{\\Lambda_i} =  \\lambda_i\\frac{M_{p,i}}{M_{p,i} + M_{e,i}} + \\frac{M_{e,i}}{M_{p,i} + M_{e,i}} - 1 + 1\\\\\n",
    "$$\n",
    "\n",
    "$$\n",
    "\\frac{1}{\\Lambda_i} =  \\lambda_i\\frac{M_{p,i}}{M_{p,i} + M_{e,i}} - \\frac{M_{p,i}}{M_{p,i} + M_{e,i}} + 1\\\\\n",
    "$$\n",
    "$$\n",
    "\\Lambda_i^{-1} =  \\lambda_i\\epsilon_i- \\epsilon_i + 1  \\text{ (4)}\\\\\n",
    "$$\n",
    "Sabemos que:\n",
    "$$\n",
    "\\Delta v_i = g_0 I_{sp,i} \\ln{\\Lambda_i}\n",
    "$$\n",
    "\n",
    "\n",
    "Usando (4):\n",
    "\n",
    "$$\n",
    "\\Delta v_i = g_0 I_{sp,i} \\ln{ (\\lambda_i\\epsilon_i- \\epsilon_i + 1)^{-1}}\n",
    "$$\n",
    "\n",
    "$$\n",
    "\\Delta v_i = -I_{sp,i} g_0  \\ln{(\\lambda_i\\epsilon_i + 1 - \\epsilon_i)}, \\text{ c.q.d.}\n",
    "$$\n",
    "\n",
    "--------------------------------- \n",
    "\n"
   ]
  },
  {
   "cell_type": "markdown",
   "metadata": {},
   "source": [
    "b) Sabemos que a razão de carga total é:\n",
    "$$\n",
    "    \\lambda = \\frac{M_u}{M_0}, \\text{sendo  } M_0 = \\sum_{i = 1}^{n}(M_{u,i} + M_{p,i} + M_{e, i})\n",
    "$$\n",
    "\n",
    "Para cada estágio temos:\n",
    "$$\n",
    "    \\lambda_i = \\frac{M_{u,i}}{M_{0,i}},\\text{sendo  } M_{u,i} = M_u + \\sum_{j = i + 1}^{n}(M_{p,j} + M_{e, j}) = M_{0, i+1}\n",
    "$$\n",
    "\n",
    "Usando a relação entre a massa útil do estágio i e a carga total do próximo estágio:\n",
    "$$\n",
    "    \\lambda_i = \\frac{M_{0, i+1}}{M_{0,i}}\n",
    "$$\n",
    "\n",
    "Para o produto das razões de carga paga de todos os estágios:\n",
    "$$\n",
    "    \\prod_{i=1}^{n} \\lambda_i = \\prod_{i=1}^{n} \\frac{M_{0, i+1}}{M_{0,i}} = \\frac{M_{0,2}}{M_{0}} \\cdot  \\frac{M_{0,3}}{M_{0,2}}\\cdots\\frac{M_{u, n}}{M_{0,n-1}}\\cdot\\frac{M_{u}}{M_{0,n}} = \\frac{M_{u}}{M_0}\n",
    "$$\n",
    "Portanto, após as devidas simplificações:\n",
    "$$\n",
    "    \\prod_{i=1}^{n} \\lambda_i = \\lambda, \\text{ c.q.d.}\n",
    "$$\n",
    "\n",
    "---------------------------------------------------------------------------------"
   ]
  },
  {
   "cell_type": "markdown",
   "metadata": {},
   "source": [
    "c) Temos, do resultado da letra (a):\n",
    "$$\n",
    "    \\Delta v = \\sum_{1}^{n} \\Delta{v_i} = -\\sum_{1}^{n} I_{sp,i} g_0  \\ln{(\\lambda_i\\epsilon_i + 1 - \\epsilon_i)} \\text{ (5)}\n",
    "$$\n",
    "Precisamos determinar os valores de λ_i que maximizem a equação anterior. Do resultado da letra (b) podemos escrever:\n",
    "$$\n",
    "    \\ln(\\lambda) = \\ln(\\prod_{i=1}^{n} \\lambda_i) \n",
    "$$\n",
    "$$\n",
    "   \\sum_{i=1}^{n} \\ln(\\lambda_i) - \\ln(\\lambda) = 0 \\text{ (6)}\n",
    "$$\n",
    "\n",
    "Temos então que maximizar (5) dado (6), para isso utilizaremos o multiplicador de Lagrange (ν):\n",
    "$$\n",
    " F = -\\sum_{1}^{n} I_{sp,i} g_0  \\ln{(\\lambda_i\\epsilon_i + 1 - \\epsilon_i)} + \\nu(\\sum_{i=1}^{n} \\ln(\\lambda_i) - \\ln(\\lambda))\n",
    "$$\n",
    "Para o multiplicador de Lagrange:\n",
    "$$\n",
    "\\frac{\\partial F}{\\partial \\lambda_i} = 0,\\text{ } \\forall \\text{ } i \\in [1,..,n]\n",
    "$$\n",
    "$$\n",
    "\\frac{\\partial F}{\\partial \\lambda_i} = -\\sum_{i =1}^{n} I_{sp,i} g_0  \n",
    "\\frac{\\partial }{\\partial \\lambda_i}( \\ln{(\\lambda_i\\epsilon_i + 1 - \\epsilon_i)}) + \\nu(\\sum_{i=1}^{n} \\frac{\\partial }{\\partial \\lambda_i}(\\ln(\\lambda_i)) - \\frac{\\partial }{\\partial \\lambda_i}(\\ln(\\lambda))) = 0\n",
    "$$\n",
    "$$\n",
    "-\\sum_{i = 1}^{n} I_{sp,i} g_0  \n",
    "\\frac{\\epsilon_i}{(\\lambda_i\\epsilon_i + 1 - \\epsilon_i)} + \\nu(\\sum_{i=1}^{n} \\frac{1}{\\lambda_i}) = 0\n",
    "$$\n",
    "$$\n",
    "\\sum_{i = 1}^{n}( \\frac{\\nu}{\\lambda_i}  -  \n",
    "\\frac{I_{sp,i} g_0 \\epsilon_i}{(\\lambda_i\\epsilon_i + 1 - \\epsilon_i)}) = 0\n",
    "$$\n",
    "$$\n",
    "\\frac{I_{sp,i} g_0 \\epsilon_i}{(\\lambda_i\\epsilon_i + 1 - \\epsilon_i)}  = \\frac{\\nu}{\\lambda_i} \n",
    "$$\n",
    "$$\n",
    "I_{sp,i} g_0 \\epsilon_i \\lambda_i  =  \\nu\\lambda_i\\epsilon_i + \\nu(1 - \\epsilon_i)\n",
    "\n",
    "$$\n",
    "$$\n",
    "\\lambda_i =  \\frac{\\nu(1 - \\epsilon_i)}{(I_{sp,i} g_0 - \\nu)\\epsilon_i} \\text{ (7)}\n",
    "$$\n",
    "\n",
    "De (6) e (7):\n",
    "\n",
    "$$\n",
    "    \\prod_{i=1}^{n} \\lambda_i = \\lambda\n",
    "$$\n",
    "$$\n",
    "    \\prod_{i=1}^{n} \\frac{\\nu(1 - \\epsilon_i)}{(I_{sp,i} g_0 - \\nu)\\epsilon_i} = \\lambda\n",
    "$$\n",
    "$$\n",
    "    \\prod_{i=1}^{n} \\nu(\\frac{1}{\\epsilon_i} - 1) = \\lambda \\prod_{i=1}^{n} (I_{sp,i} g_0 - \\nu)\n",
    "$$\n",
    "$$\n",
    "    \\nu^n \\prod_{i=1}^{n}(\\frac{1}{\\epsilon_i} - 1) - \\lambda \\prod_{i=1}^{n} (I_{sp,i} g_0 - \\nu) = 0 \\text{ (8)}\n",
    "$$\n",
    "\n",
    "Para cada valor de (ν) em (8) temos o correspondente valor de λi dado por (7)."
   ]
  },
  {
   "cell_type": "markdown",
   "metadata": {},
   "source": [
    "d) Considerando:\n",
    "$$\n",
    "I_{sp,i} = I_{sp} = cte., \\text{ } \\epsilon_i = \\epsilon=cte.\n",
    "$$\n",
    "De (8):\n",
    "\n",
    "$$\n",
    "    \\nu^n \\prod_{i=1}^{n}(\\frac{1}{\\epsilon} - 1) = \\lambda \\prod_{i=1}^{n} (I_{sp} g_0 - \\nu)\n",
    "$$\n",
    "$$\n",
    "    \\nu^n (\\frac{1}{\\epsilon} - 1)^n = \\lambda (I_{sp} g_0 - \\nu)^n\n",
    "$$\n",
    "$$\n",
    "    \\nu (\\frac{1}{\\epsilon} - 1) = \\lambda^{\\frac{1}{n}} (I_{sp} g_0 - \\nu)\n",
    "$$\n",
    "$$\n",
    "    \\frac{\\nu (1 - \\epsilon)}{ (I_{sp} g_0 - \\nu)\\epsilon} = \\lambda^{\\frac{1}{n}} \\text{ (9)}\n",
    "$$\n",
    "De (7) em (9):\n",
    "$$\n",
    "\\lambda_i =  \\frac{\\nu(1 - \\epsilon)}{(I_{sp} g_0 - \\nu)\\epsilon}\n",
    "$$\n",
    "$$\n",
    "\\lambda_i =\\lambda^{\\frac{1}{n}}\n",
    "$$\n",
    "\n",
    "----------------------------------------"
   ]
  },
  {
   "cell_type": "markdown",
   "metadata": {},
   "source": [
    "Questao 6) As medidas a seguir foram feitas para um ensaio a nıvel do mar\n",
    "de um motor-foguete a propelente hıbrido:\n",
    "\n",
    "•Empuxo medio: 60 kN; •Tempo de queima: 40 s; \n",
    "\n",
    "•Press̃ao de camara media: 70 bar;  •Pressao de saıda do ǵas: 0.7 bar; \n",
    "\n",
    "•Massa inicial: 1200 kg;  •Massa final, apos consumo do combustıvel (solido): 700 kg; \n",
    "\n",
    "•Vazao massica media de oxidante (lıquido): 12.5 kg/s;  •Diametro da garganta: 0.0855 m; \n",
    "\n",
    "•Diametro da saıda da tubeira: 0.2703 m;\n",
    "\n",
    "---- Obtenha o impulso especıfico deste motor: ----\n",
    "\n",
    "(a) a nıvel do mar; (b) a 25 km de altitude (pressao atmosferica 2.55 kPa)."
   ]
  },
  {
   "cell_type": "code",
   "execution_count": 8,
   "metadata": {},
   "outputs": [
    {
     "name": "stdout",
     "output_type": "stream",
     "text": [
      "Isp, para pressão atmosférica de 100000 Pa, é aproximadamente 254.71 s\n"
     ]
    }
   ],
   "source": [
    "def gamma_from_At_Ae_Pe_P0(At, Ae, Pe, P0, N = 1000):\n",
    "    pe_p0 = Pe/P0\n",
    "    At_Ae = At/Ae\n",
    "    gamma_vec = np.linspace(0.01,5,N)\n",
    "    gamma_minus = gamma_vec - 1\n",
    "    gamma_plus = gamma_vec + 1\n",
    "    inv_gamma = 1/gamma_vec\n",
    "    numerador = (2*gamma_vec/gamma_minus)*(pe_p0**(2*inv_gamma))*(1 - ((pe_p0)**(gamma_minus/gamma_vec)))\n",
    "    denominador = gamma_vec*((2/gamma_plus)**(gamma_plus/gamma_minus))\n",
    "    At_Ae_vec = np.sqrt(numerador/denominador)\n",
    "    diff_vec = np.absolute(At_Ae_vec - At_Ae)\n",
    "    return gamma_vec[diff_vec.argmin()]\n",
    "def Vandenkerckhove(gamma):\n",
    "    return np.sqrt(gamma*((2/(gamma + 1))**((gamma + 1)/(gamma - 1))))\n",
    "\n",
    "Pe = 0.7*100000\n",
    "P0 = 70*100000\n",
    "dt, de = 0.0855, 0.2703\n",
    "At, Ae = np.pi*(dt**2)/4 , np.pi*(de**2)/4 \n",
    "T = 60000\n",
    "delta_m = (1200 - 700)\n",
    "dot_m = delta_m/40 + 12.5\n",
    "g0 = 9.81\n",
    "gamma = gamma_from_At_Ae_Pe_P0(At, Ae, Pe, P0, N = 100000)\n",
    "beta = (gamma - 1)/gamma\n",
    "vandenkerckhove = Vandenkerckhove(gamma)\n",
    "\n",
    "#a) Pa = 100000 Pa\n",
    "Pa = 100000\n",
    "x, xa = Pe/P0, Pa/P0\n",
    "F = vandenkerckhove*P0*At*(((1 - x**beta)**0.5) + (beta/2)*(x**(beta-1))*(x - xa)*((1 - (x**beta))**(-0.5)))/(np.sqrt(beta/2))\n",
    "Isp_a = F/(dot_m*g0)\n",
    "print(f\"Isp, para pressão atmosférica de {Pa} Pa, é aproximadamente {Isp_a:.2f} s\")"
   ]
  },
  {
   "cell_type": "code",
   "execution_count": 9,
   "metadata": {},
   "outputs": [
    {
     "name": "stdout",
     "output_type": "stream",
     "text": [
      "Isp, para pressão atmosférica de 2550 Pa, é aproximadamente 277.51 s\n"
     ]
    }
   ],
   "source": [
    "#b) Pa = 2550 Pa\n",
    "Pa = 2550\n",
    "x, xa = Pe/P0, Pa/P0\n",
    "F = vandenkerckhove*P0*At*(((1 - x**beta)**0.5) + (beta/2)*(x**(beta-1))*(x - xa)*((1 - (x**beta))**(-0.5)))/(np.sqrt(beta/2))\n",
    "Isp_a = F/(dot_m*g0)\n",
    "print(f\"Isp, para pressão atmosférica de {Pa} Pa, é aproximadamente {Isp_a:.2f} s\")"
   ]
  },
  {
   "cell_type": "markdown",
   "metadata": {},
   "source": [
    "Questao 7. Considere um motor-foguete operando sob a pressao atmosferica, projetado para a expansao otima ate esta pressao. Suponha vazao massica total de 4 kg/s, pressao de camara de 30 bar, temperatura de estagnacao na camara de 2600 K, massa molar media dos produtos de combustao de 18 g/mol, razao de calores especıficos de 1.3.\n",
    "\n",
    "Calcule:\n",
    "\n",
    "(a) A velocidade de saıda;\n",
    "\n",
    "(b) A temperatura de saıda;\n",
    "\n",
    "(c) A velocidade caracterıstica (c∗);\n",
    "\n",
    "(d) O impulso especıfico."
   ]
  },
  {
   "cell_type": "code",
   "execution_count": 10,
   "metadata": {},
   "outputs": [
    {
     "name": "stdout",
     "output_type": "stream",
     "text": [
      "a) Velocidade de saída (Ve) é aproximadamente 2379.17 m/s\n",
      "b) Temperatura de saída (Te) é aproximadamente 5699.64 K\n",
      "c) Velocidade Característica (c*) é aproximadamente 1642.37 m/s\n",
      "d) Isp é aproximadamente 242.52 s\n"
     ]
    }
   ],
   "source": [
    "Pe = 100000 #Pa\n",
    "dot_m = 4 #kg/s\n",
    "P0 = 30*100000 #Pa\n",
    "T0 = 2600 #K\n",
    "M = 18 #g/mol\n",
    "gamma = 1.3\n",
    "R = (8314.462618/18)\n",
    "\n",
    "#a)\n",
    "def ve_from_gamma_Pe_P0_T0(gamma, Pe, P0, T0, R):\n",
    "    beta = (gamma - 1)/gamma\n",
    "    return np.sqrt((2/beta)*R*T0*(1 - ((Pe/P0)**beta)))\n",
    "v_e = ve_from_gamma_Pe_P0_T0(gamma, Pe, P0, T0, R)\n",
    "\n",
    "def Te_from_gamma_Pe_P0_T0(gamma, Pe, P0, T0):\n",
    "    beta = (gamma - 1)/gamma\n",
    "    return T0*((Pe/P0)**(-beta))\n",
    "Te = Te_from_gamma_Pe_P0_T0(gamma, Pe, P0, T0)\n",
    "\n",
    "vandenkerckhove = Vandenkerckhove(gamma)\n",
    "c_star = np.sqrt(R*T0)/(vandenkerckhove)\n",
    "Isp = v_e/g0\n",
    "\n",
    "print(f\"a) Velocidade de saída (Ve) é aproximadamente {v_e:.2f} m/s\")\n",
    "print(f\"b) Temperatura de saída (Te) é aproximadamente {Te:.2f} K\")\n",
    "print(f\"c) Velocidade Característica (c*) é aproximadamente {c_star:.2f} m/s\")\n",
    "print(f\"d) Isp é aproximadamente {Isp:.2f} s\")"
   ]
  },
  {
   "cell_type": "markdown",
   "metadata": {},
   "source": [
    "Questao 8. Voce esta participando de um grupo de trabalho para estudar a\n",
    "viabilidade do desenvolvimento de uma tubeira especial com um mecanismo\n",
    "de extensao, capaz de aumentar a area de saıda durante o voo e assim manter\n",
    "a pressao de saıda sempre igual a pressao atmosferica a medida que o foguete\n",
    "sobe. Supondo uma pressao de camara de 20 bar e um γ de 1.2, determine\n",
    "a variacao de area de saıda, desde o lancamento ate uma altitude de 50 km,\n",
    "ou seja, pressao atmosferica variando desde 1 bar ate 7.87 × 10−4 bar."
   ]
  },
  {
   "cell_type": "code",
   "execution_count": 19,
   "metadata": {},
   "outputs": [
    {
     "name": "stdout",
     "output_type": "stream",
     "text": [
      "A variaçã0 percentual de área de saída, em relação à área inicial (Ae_0), é aproximadamente +26702.38%\n"
     ]
    }
   ],
   "source": [
    "def At_Ae_from_Pe_P0_gamma(Pe, P0, gamma):\n",
    "    vandenkerckhove = Vandenkerckhove(gamma)\n",
    "    pe_p0 = Pe/P0\n",
    "    beta = (gamma-1)/gamma\n",
    "    return (1/vandenkerckhove)*np.sqrt((2/beta)*(pe_p0**(2/gamma))*(1 - ((pe_p0)**(beta))))\n",
    "P0 = 20*100000\n",
    "gamma = 1.2\n",
    "Pe_0 = 100000\n",
    "Pe_50 = 78.7\n",
    "AtAe_0 = At_Ae_from_Pe_P0_gamma(Pe_0, P0,gamma)\n",
    "AtAe_50 = At_Ae_from_Pe_P0_gamma(Pe_50, P0,gamma)\n",
    "delta_Ae = (1/AtAe_50 - 1/AtAe_0)/(1/AtAe_0)\n",
    "print(f\"A variaçã0 percentual de área de saída, em relação à área inicial (Ae_0), é aproximadamente +{delta_Ae:.2%}\")"
   ]
  }
 ],
 "metadata": {
  "kernelspec": {
   "display_name": ".venv",
   "language": "python",
   "name": "python3"
  },
  "language_info": {
   "codemirror_mode": {
    "name": "ipython",
    "version": 3
   },
   "file_extension": ".py",
   "mimetype": "text/x-python",
   "name": "python",
   "nbconvert_exporter": "python",
   "pygments_lexer": "ipython3",
   "version": "3.11.4"
  }
 },
 "nbformat": 4,
 "nbformat_minor": 2
}
