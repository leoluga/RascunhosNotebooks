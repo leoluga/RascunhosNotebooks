{
 "cells": [
  {
   "cell_type": "code",
   "execution_count": 104,
   "metadata": {},
   "outputs": [],
   "source": [
    "import numpy as np\n",
    "from IPython.display import display, Latex\n",
    "import matplotlib.pyplot as plt\n"
   ]
  },
  {
   "cell_type": "markdown",
   "metadata": {},
   "source": [
    "Questao 1. Calcule o ∆v de um EPL com Mu = 200 kg, Mp = 3000 kg,\n",
    "ε = 70% e Isp = 290 s."
   ]
  },
  {
   "cell_type": "markdown",
   "metadata": {},
   "source": [
    "$$\n",
    "\n",
    "\\Delta v = c ln(\\Lambda) = I_{sp} g_0 ln (\\frac{M_u + M_e + M_p}{M_u + M_e}) \\\\\n",
    "\n",
    "\\epsilon = M_p/(M_p + M_e)\n",
    "\n",
    "\n",
    "$$"
   ]
  },
  {
   "cell_type": "code",
   "execution_count": 125,
   "metadata": {},
   "outputs": [
    {
     "data": {
      "text/latex": [
       "$O \\ valor \\ de \\ \\Delta v \\ é \\ igual \\ a \\ 3143.62 \\  m/s$"
      ],
      "text/plain": [
       "<IPython.core.display.Latex object>"
      ]
     },
     "metadata": {},
     "output_type": "display_data"
    }
   ],
   "source": [
    "def delta_v_from_Mu_Mp_eps_Isp(Mu, Mp, eps, Isp, g0):\n",
    "    Me = (Mp/eps) - Mp\n",
    "    Lambda = (Mu + Me + Mp)/(Mu + Me) \n",
    "    c = Isp*g0\n",
    "    delta_v = c*np.log(Lambda)\n",
    "    display(Latex(f\"$O \\ valor \\ de \\ \\Delta v \\ é \\ igual \\ a \\ {delta_v:.2f} \\  m/s$\"))\n",
    "    return delta_v\n",
    "\n",
    "Mu, Mp, eps, Isp, g0 = 200, 3000, 0.7, 290, 9.81\n",
    "\n",
    "delta_v_Q1  = delta_v_from_Mu_Mp_eps_Isp(Mu, Mp, eps, Isp, g0)"
   ]
  },
  {
   "cell_type": "markdown",
   "metadata": {},
   "source": [
    "Questão 2. Considere um EPL de Mu = 200 kg , ε = 70% e Isp = 290 s,\n",
    "calcule a massa de propelente necessária para atingir:\n",
    "\n",
    "(a) ∆v = 1000 m/s;\n",
    "\n",
    "(b) ∆v = 3400 m/s;\n",
    "\n",
    "(c) ∆v = 5000 m/s;"
   ]
  },
  {
   "cell_type": "code",
   "execution_count": 126,
   "metadata": {},
   "outputs": [
    {
     "data": {
      "text/latex": [
       "$O \\ valor \\ de \\ M_p \\ é \\ igual \\ a \\ 102.80 \\  kg$"
      ],
      "text/plain": [
       "<IPython.core.display.Latex object>"
      ]
     },
     "metadata": {},
     "output_type": "display_data"
    }
   ],
   "source": [
    "def Mp_from_Mu_eps_Isp_deltaV(Mu, eps, Isp, delta_v,g0):\n",
    "    c = Isp*g0\n",
    "    Lambda = np.exp(delta_v/c)\n",
    "    factor1 = Lambda- 1\n",
    "    factor2 = (1-eps)/eps\n",
    "    Mp = (factor1*Mu)/(1 - factor1*factor2)       \n",
    "    display(Latex(f\"$O \\ valor \\ de \\ M_p \\ é \\ igual \\ a \\ {Mp:.2f} \\  kg$\"))\n",
    "    return Mp\n",
    "\n",
    "Mu, eps, Isp, g0 = 200, 0.7, 290, 9.81\n",
    "\n",
    "#a)\n",
    "delta_v_a = 1000\n",
    "Mp_a = Mp_from_Mu_eps_Isp_deltaV(Mu, eps, Isp, delta_v_a, g0)"
   ]
  },
  {
   "cell_type": "code",
   "execution_count": 66,
   "metadata": {},
   "outputs": [
    {
     "data": {
      "text/latex": [
       "$O \\ valor \\ de \\ M_p \\ é \\ igual \\ a \\ 36601.26 \\  kg$"
      ],
      "text/plain": [
       "<IPython.core.display.Latex object>"
      ]
     },
     "metadata": {},
     "output_type": "display_data"
    }
   ],
   "source": [
    "#b)\n",
    "delta_v_b = 3400\n",
    "Mp_b = Mp_from_Mu_eps_Isp_deltaV(Mu, eps, Isp, delta_v_b, g0)"
   ]
  },
  {
   "cell_type": "code",
   "execution_count": 67,
   "metadata": {},
   "outputs": [
    {
     "data": {
      "text/latex": [
       "$O \\ valor \\ de \\ M_p \\ é \\ igual \\ a \\ -908.45 \\  kg$"
      ],
      "text/plain": [
       "<IPython.core.display.Latex object>"
      ]
     },
     "metadata": {},
     "output_type": "display_data"
    }
   ],
   "source": [
    "#c)\n",
    "delta_v_c = 5000\n",
    "Mp_c = Mp_from_Mu_eps_Isp_deltaV(Mu, eps, Isp, delta_v_c, g0)"
   ]
  },
  {
   "cell_type": "markdown",
   "metadata": {},
   "source": [
    "Questao 3. Calcule a maxima carga util com a qual um EPL de ε = 70%,\n",
    "Isp = 290 s e Mp = 10000 kg ainda consegue cumprir a missao de ∆v = 3\n",
    "km/s."
   ]
  },
  {
   "cell_type": "code",
   "execution_count": 127,
   "metadata": {},
   "outputs": [
    {
     "data": {
      "text/latex": [
       "$O \\ valor \\ de \\ M_u \\ é \\ igual \\ a \\ 1060.18 \\  kg$"
      ],
      "text/plain": [
       "<IPython.core.display.Latex object>"
      ]
     },
     "metadata": {},
     "output_type": "display_data"
    }
   ],
   "source": [
    "def Mu_from_Mp_eps_Isp_deltaV(Mp, eps, Isp, delta_v, g0):\n",
    "    c = Isp*g0\n",
    "    Lambda = np.exp(delta_v/c)\n",
    "    factor1 = Lambda-1\n",
    "    factor2 = (1-eps)/eps\n",
    "    Mu = (Mp/factor1)*(1 - factor1*factor2)\n",
    "    display(Latex(f\"$O \\ valor \\ de \\ M_u \\ é \\ igual \\ a \\ {Mu:.2f} \\  kg$\"))\n",
    "    return Mu\n",
    "\n",
    "Mp,eps, Isp, g0, delta_v = 10000, 0.7, 290, 9.81, 3000 \n",
    "\n",
    "Mu = Mu_from_Mp_eps_Isp_deltaV(Mp, eps, Isp,delta_v, g0)"
   ]
  },
  {
   "cell_type": "markdown",
   "metadata": {},
   "source": [
    "Questao 4. Considere um EPL de Mu = 200 kg, Isp = 290 s, calcule a\n",
    "eficiencia estrutural m ́ınima permissıvel para atingir a missao de ∆v = 5\n",
    "km/s."
   ]
  },
  {
   "cell_type": "code",
   "execution_count": 131,
   "metadata": {},
   "outputs": [
    {
     "data": {
      "text/latex": [
       "$O \\ valor \\ de \\ \\epsilon \\ minimo \\  é \\ igual \\ a \\ 82.75% $%$ \\ $"
      ],
      "text/plain": [
       "<IPython.core.display.Latex object>"
      ]
     },
     "metadata": {},
     "output_type": "display_data"
    }
   ],
   "source": [
    "def epsMin_from_Mu_Isp_deltaV(Mu,Isp, delta_v, g0):\n",
    "    c = Isp*g0\n",
    "    Lambda = np.exp(delta_v/c)\n",
    "    factor1 = Lambda/(Lambda-1)\n",
    "    def eps(Mu, Mp):\n",
    "        return Mp/(Mp*factor1 - Mu)\n",
    "    \n",
    "    Mp_vec = np.linspace(0, 1e12, 1000)\n",
    "    eps_array = np.zeros(len(Mp_vec))\n",
    "\n",
    "    for i in range(0,len(Mp_vec)):\n",
    "        eps_array[i] = eps(Mu, Mp_vec[i])\n",
    "    \n",
    "    return eps_array[-1]\n",
    "\n",
    "\n",
    "Mu, Isp, delta_v, g0 = 200, 290, 5000 , 9.81\n",
    "\n",
    "eps_min = epsMin_from_Mu_Isp_deltaV(Mu, Isp, delta_v, g0)\n",
    "\n",
    "display(Latex(f\"$O \\ valor \\ de \\ \\epsilon \\ minimo \\  é \\ igual \\ a \\ {eps_min:.2%} $%$ \\ $\"))"
   ]
  },
  {
   "cell_type": "markdown",
   "metadata": {},
   "source": [
    "Questao 5. Considere um foguete de N estagios, com impulsos especıficos\n",
    "Isp_,_i e eficiencias estruturais ε_i, i ∈ {1, . . . , n}.\n",
    "\n",
    "(a) Demonstre que o ∆vi do i−esimo estagio e dado por\n",
    "\n",
    "∆v_i = −Isp_i g0 ln(λiεi + 1 − εi),\n",
    "\n",
    "sendo λi = Mu,i/M0,i a razao de carga paga do estagio.\n",
    "\n",
    "(b) Demonstre que a razao de carga paga total λ = Mu/M0  ́e igual ao\n",
    "produto das razoes de carga paga λi de todos os estagios.\n",
    "\n",
    "(c) Deduza as equacoes polinomiais que permitem o calculo da distribuicao otima de massa dos estagios do foguete, isto  ́e, quais sao os λi que\n",
    "maximizam o ∆v final do foguete, sujeitos a $\\Pi$i, λi = λ.\n",
    "\n",
    "(d) Obtenha explicitamente a expressao dos λi para o caso particular em\n",
    "que todos os impulsos especıficos e eficiencias estruturais sao iguais.\n",
    "Interprete o resultado obtido."
   ]
  },
  {
   "cell_type": "markdown",
   "metadata": {},
   "source": [
    "a) Definindo as equações necessárias:\n",
    "\n",
    "$$\n",
    "\\Lambda_i = \\frac{M_{u,i} + M_{p,i} + M_{e,i}}{M_{u,i} + M_{e,i}} (1); \\\\\n",
    "\n",
    "\\lambda_i = \\frac{M_{u,i}}{M_{u,i} + M_{p,i} + M_{e,i}} (2);\n",
    "\n",
    "\\epsilon_i = \\frac{M_{p,i}}{M_{p,i} + M_{e,i}} (3);\n",
    "\n",
    "$$\n",
    "\n",
    "Assim, de (1):\n",
    "\n",
    "$$\n",
    "\\frac{1}{\\Lambda_i} =  \\frac{M_{u,i} + M_{e,i}}{M_{u,i} + M_{p,i} + M_{e,i}} \\\\\n",
    "$$\n",
    "$$\n",
    "\\frac{1}{\\Lambda_i} =  \\frac{M_{u,i} + M_{e,i}}{M_{u,i} + M_{p,i} + M_{e,i}} (\\frac{ M_{p,i} + M_{e,i}}{ M_{p,i} + M_{e,i}}) \\\\\n",
    "$$\n",
    "$$\n",
    "\\frac{1}{\\Lambda_i} =  \\frac{M_{u,i}M_{p,i} + M_{e,i}M_{u,i} + M_{p,i}M_{e,i} + M_{e,i}^2}{(M_{u,i} + M_{p,i} + M_{e,i})(M_{p,i} + M_{e,i})} \\\\\n",
    "$$\n",
    "$$\n",
    "\\frac{1}{\\Lambda_i} =  \\frac{M_{u,i}M_{p,i}}{(M_{u,i} + M_{p,i} + M_{e,i})(M_{p,i} + M_{e,i})} + \\frac{M_{e,i}M_{u,i} + M_{p,i}M_{e,i} + M_{e,i}^2}{(M_{u,i} + M_{p,i} + M_{e,i})(M_{p,i} + M_{e,i})} \\\\\n",
    "$$\n",
    "$$\n",
    "\\frac{1}{\\Lambda_i} =  \\frac{M_{u,i}M_{p,i}}{(M_{u,i} + M_{p,i} + M_{e,i})(M_{p,i} + M_{e,i})} + \\frac{M_{e,i}(M_{u,i} + M_{p,i} + M_{e,i})}{(M_{u,i} + M_{p,i} + M_{e,i})(M_{p,i} + M_{e,i})} \\\\\n",
    "$$\n",
    "$$\n",
    "\\frac{1}{\\Lambda_i} =  \\frac{M_{u,i}M_{p,i}}{(M_{u,i} + M_{p,i} + M_{e,i})(M_{p,i} + M_{e,i})} + \\frac{M_{e,i}}{M_{p,i} + M_{e,i}} \\\\\n",
    "$$\n",
    "\n",
    "De (2) e (3):\n",
    "\n",
    "$$\n",
    "\\frac{1}{\\Lambda_i} =  \\lambda_i\\frac{M_{p,i}}{M_{p,i} + M_{e,i}} + \\frac{M_{e,i}}{M_{p,i} + M_{e,i}} - 1 + 1\\\\\n",
    "$$\n",
    "\n",
    "\n",
    "$$\n",
    "\\frac{1}{\\Lambda_i} =  \\lambda_i\\frac{M_{p,i}}{M_{p,i} + M_{e,i}} - \\frac{M_{p,i}}{M_{p,i} + M_{e,i}} + 1\\\\\n",
    "$$\n",
    "\n",
    "\n",
    "\n",
    "\n",
    "\n",
    "\n"
   ]
  }
 ],
 "metadata": {
  "kernelspec": {
   "display_name": ".venv",
   "language": "python",
   "name": "python3"
  },
  "language_info": {
   "codemirror_mode": {
    "name": "ipython",
    "version": 3
   },
   "file_extension": ".py",
   "mimetype": "text/x-python",
   "name": "python",
   "nbconvert_exporter": "python",
   "pygments_lexer": "ipython3",
   "version": "3.11.4"
  }
 },
 "nbformat": 4,
 "nbformat_minor": 2
}
